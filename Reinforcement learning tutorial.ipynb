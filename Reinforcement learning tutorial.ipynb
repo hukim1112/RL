{
 "cells": [
  {
   "cell_type": "markdown",
   "metadata": {},
   "source": [
    "# Q Learning"
   ]
  },
  {
   "cell_type": "code",
   "execution_count": 1,
   "metadata": {},
   "outputs": [],
   "source": [
    "import gym\n",
    "import numpy as np"
   ]
  },
  {
   "cell_type": "markdown",
   "metadata": {},
   "source": [
    "## Load our game"
   ]
  },
  {
   "cell_type": "code",
   "execution_count": 2,
   "metadata": {},
   "outputs": [],
   "source": [
    "env = gym.make('FrozenLake-v0')"
   ]
  },
  {
   "cell_type": "code",
   "execution_count": 3,
   "metadata": {},
   "outputs": [
    {
     "name": "stdout",
     "output_type": "stream",
     "text": [
      "\n",
      "\u001b[41mS\u001b[0mFFF\n",
      "FHFH\n",
      "FFFH\n",
      "HFFG\n"
     ]
    }
   ],
   "source": [
    "env.render()"
   ]
  },
  {
   "cell_type": "code",
   "execution_count": 4,
   "metadata": {},
   "outputs": [
    {
     "name": "stdout",
     "output_type": "stream",
     "text": [
      "100-th Score over time: 0.0\n",
      "200-th Score over time: 0.0\n",
      "300-th Score over time: 0.04\n",
      "400-th Score over time: 0.0\n",
      "500-th Score over time: 0.13\n",
      "600-th Score over time: 0.49\n",
      "700-th Score over time: 0.39\n",
      "800-th Score over time: 0.39\n",
      "900-th Score over time: 0.42\n",
      "1000-th Score over time: 0.38\n",
      "1100-th Score over time: 0.46\n",
      "1200-th Score over time: 0.37\n",
      "1300-th Score over time: 0.41\n",
      "1400-th Score over time: 0.39\n",
      "1500-th Score over time: 0.36\n",
      "1600-th Score over time: 0.48\n",
      "1700-th Score over time: 0.41\n",
      "1800-th Score over time: 0.46\n",
      "1900-th Score over time: 0.36\n",
      "2000-th Score over time: 0.4\n",
      "2100-th Score over time: 0.43\n",
      "2200-th Score over time: 0.46\n",
      "2300-th Score over time: 0.43\n",
      "2400-th Score over time: 0.37\n",
      "2500-th Score over time: 0.33\n",
      "2600-th Score over time: 0.37\n",
      "2700-th Score over time: 0.34\n",
      "2800-th Score over time: 0.37\n",
      "2900-th Score over time: 0.38\n",
      "3000-th Score over time: 0.5\n",
      "3100-th Score over time: 0.41\n",
      "3200-th Score over time: 0.45\n",
      "3300-th Score over time: 0.44\n",
      "3400-th Score over time: 0.52\n",
      "3500-th Score over time: 0.51\n",
      "3600-th Score over time: 0.45\n",
      "3700-th Score over time: 0.43\n",
      "3800-th Score over time: 0.38\n",
      "3900-th Score over time: 0.35\n",
      "4000-th Score over time: 0.35\n",
      "4100-th Score over time: 0.47\n",
      "4200-th Score over time: 0.38\n",
      "4300-th Score over time: 0.42\n",
      "4400-th Score over time: 0.33\n",
      "4500-th Score over time: 0.44\n",
      "4600-th Score over time: 0.36\n",
      "4700-th Score over time: 0.41\n",
      "4800-th Score over time: 0.41\n",
      "4900-th Score over time: 0.47\n",
      "5000-th Score over time: 0.41\n",
      "5100-th Score over time: 0.38\n",
      "5200-th Score over time: 0.48\n",
      "5300-th Score over time: 0.46\n",
      "5400-th Score over time: 0.48\n",
      "5500-th Score over time: 0.47\n",
      "5600-th Score over time: 0.54\n",
      "5700-th Score over time: 0.5\n",
      "5800-th Score over time: 0.39\n",
      "5900-th Score over time: 0.43\n",
      "6000-th Score over time: 0.35\n",
      "6100-th Score over time: 0.44\n",
      "6200-th Score over time: 0.37\n",
      "6300-th Score over time: 0.41\n",
      "6400-th Score over time: 0.39\n",
      "6500-th Score over time: 0.5\n",
      "6600-th Score over time: 0.44\n",
      "6700-th Score over time: 0.43\n",
      "6800-th Score over time: 0.46\n",
      "6900-th Score over time: 0.41\n",
      "7000-th Score over time: 0.48\n",
      "7100-th Score over time: 0.41\n",
      "7200-th Score over time: 0.42\n",
      "7300-th Score over time: 0.43\n",
      "7400-th Score over time: 0.47\n",
      "7500-th Score over time: 0.37\n",
      "7600-th Score over time: 0.39\n",
      "7700-th Score over time: 0.5\n",
      "7800-th Score over time: 0.34\n",
      "7900-th Score over time: 0.4\n",
      "8000-th Score over time: 0.37\n",
      "8100-th Score over time: 0.48\n",
      "8200-th Score over time: 0.42\n",
      "8300-th Score over time: 0.55\n",
      "8400-th Score over time: 0.4\n",
      "8500-th Score over time: 0.33\n",
      "8600-th Score over time: 0.36\n",
      "8700-th Score over time: 0.35\n",
      "8800-th Score over time: 0.39\n",
      "8900-th Score over time: 0.3\n",
      "9000-th Score over time: 0.24\n",
      "9100-th Score over time: 0.39\n",
      "9200-th Score over time: 0.46\n",
      "9300-th Score over time: 0.39\n",
      "9400-th Score over time: 0.42\n",
      "9500-th Score over time: 0.36\n",
      "9600-th Score over time: 0.4\n",
      "9700-th Score over time: 0.46\n",
      "9800-th Score over time: 0.46\n",
      "9900-th Score over time: 0.43\n"
     ]
    }
   ],
   "source": [
    "#Initialize table with all zeros\n",
    "Q = np.zeros([env.observation_space.n,env.action_space.n])\n",
    "# Set learning parameters\n",
    "lr = .8 #learning rate\n",
    "y = .95 #gamma\n",
    "num_episodes = 10000\n",
    "#create lists to contain total rewards and steps per episode\n",
    "#jList = []\n",
    "rList = []\n",
    "for i in range(num_episodes):\n",
    "    #Reset environment and get first new observation\n",
    "    s = env.reset()\n",
    "    rAll = 0\n",
    "    d = False\n",
    "    j = 0\n",
    "    #The Q-Table learning algorithm\n",
    "    while j < 99:\n",
    "        j+=1\n",
    "        #Choose an action by greedily (with noise) picking from Q table\n",
    "        a = np.argmax(Q[s,:] + np.random.randn(1,env.action_space.n)*(1./(i+1)))\n",
    "        #Get new state and reward from environment\n",
    "        s1,r,d,_ = env.step(a) #left Down right up\n",
    "        #Update Q-Table with new knowledge\n",
    "        Q[s,a] = Q[s,a] + lr*(r + y*np.max(Q[s1,:]) - Q[s,a]) # (1-lr)Q[s,a] + lr(r+y*np.max(Q[s1,:]))\n",
    "        rAll += r\n",
    "        s = s1\n",
    "        if d == True:\n",
    "            break\n",
    "    #jList.append(j)\n",
    "    rList.append(rAll)\n",
    "    #print(Q) #can you see the procedure of learning Q?\n",
    "    if (i != 0)&(i%100 == 0):\n",
    "        print(\"%d-th Score over time: \"%i +  str(sum(rList[i-100:i])/100))"
   ]
  },
  {
   "cell_type": "code",
   "execution_count": 6,
   "metadata": {},
   "outputs": [
    {
     "name": "stdout",
     "output_type": "stream",
     "text": [
      "Score over time: 0.3955\n"
     ]
    }
   ],
   "source": [
    "print(\"Score over time: \" +  str(sum(rList)/num_episodes))"
   ]
  },
  {
   "cell_type": "code",
   "execution_count": 8,
   "metadata": {},
   "outputs": [
    {
     "name": "stdout",
     "output_type": "stream",
     "text": [
      "Final Q-Table Values\n",
      "[[2.22060341e-03 2.11174752e-03 2.61828239e-02 2.33961087e-03]\n",
      " [6.24791927e-04 9.56195598e-04 1.96770142e-04 8.74026430e-03]\n",
      " [4.49906655e-04 4.55861462e-04 6.40634550e-04 2.61848760e-03]\n",
      " [6.76243488e-05 3.32217027e-05 1.24281826e-04 2.33264017e-03]\n",
      " [9.57568451e-02 5.48614459e-04 1.14366697e-03 4.18397962e-04]\n",
      " [0.00000000e+00 0.00000000e+00 0.00000000e+00 0.00000000e+00]\n",
      " [1.17977057e-05 1.52086506e-06 3.71590053e-03 9.21536861e-05]\n",
      " [0.00000000e+00 0.00000000e+00 0.00000000e+00 0.00000000e+00]\n",
      " [4.17155249e-04 3.85500997e-06 5.87860627e-04 2.76028704e-01]\n",
      " [2.61123035e-04 2.28089205e-01 1.67722703e-05 6.52498742e-04]\n",
      " [5.34412967e-01 1.16248333e-04 0.00000000e+00 5.66672654e-05]\n",
      " [0.00000000e+00 0.00000000e+00 0.00000000e+00 0.00000000e+00]\n",
      " [0.00000000e+00 0.00000000e+00 0.00000000e+00 0.00000000e+00]\n",
      " [4.19448100e-04 2.41125438e-04 2.24913788e-01 0.00000000e+00]\n",
      " [0.00000000e+00 0.00000000e+00 0.00000000e+00 9.11350077e-01]\n",
      " [0.00000000e+00 0.00000000e+00 0.00000000e+00 0.00000000e+00]]\n"
     ]
    }
   ],
   "source": [
    "print(\"Final Q-Table Values\")\n",
    "print(Q)"
   ]
  },
  {
   "cell_type": "code",
   "execution_count": null,
   "metadata": {},
   "outputs": [],
   "source": []
  },
  {
   "cell_type": "markdown",
   "metadata": {},
   "source": [
    "# Q learning with a neural network"
   ]
  },
  {
   "cell_type": "code",
   "execution_count": 9,
   "metadata": {},
   "outputs": [],
   "source": [
    "import gym\n",
    "import numpy as np\n",
    "import random\n",
    "import tensorflow as tf\n",
    "import matplotlib.pyplot as plt\n",
    "%matplotlib inline"
   ]
  },
  {
   "cell_type": "code",
   "execution_count": 10,
   "metadata": {},
   "outputs": [],
   "source": [
    "env = gym.make('FrozenLake-v0')"
   ]
  },
  {
   "cell_type": "code",
   "execution_count": 11,
   "metadata": {},
   "outputs": [],
   "source": [
    "tf.reset_default_graph()"
   ]
  },
  {
   "cell_type": "code",
   "execution_count": 12,
   "metadata": {},
   "outputs": [],
   "source": [
    "#These lines establish the feed-forward part of the network used to choose actions\n",
    "inputs1 = tf.placeholder(shape=[1,16],dtype=tf.float32)\n",
    "W = tf.Variable(tf.random_uniform([16,4],0,0.01))\n",
    "Qout = tf.matmul(inputs1,W)\n",
    "predict = tf.argmax(Qout,1)\n",
    "\n",
    "#Below we obtain the loss by taking the sum of squares difference between the target and prediction Q values.\n",
    "nextQ = tf.placeholder(shape=[1,4],dtype=tf.float32)\n",
    "loss = tf.reduce_sum(tf.square(nextQ - Qout))\n",
    "trainer = tf.train.GradientDescentOptimizer(learning_rate=0.1)\n",
    "updateModel = trainer.minimize(loss)"
   ]
  },
  {
   "cell_type": "code",
   "execution_count": 13,
   "metadata": {},
   "outputs": [
    {
     "name": "stdout",
     "output_type": "stream",
     "text": [
      "WARNING:tensorflow:From /home/hukim/.virtualenvs/tf1.4p3/lib/python3.5/site-packages/tensorflow/python/util/tf_should_use.py:107: initialize_all_variables (from tensorflow.python.ops.variables) is deprecated and will be removed after 2017-03-02.\n",
      "Instructions for updating:\n",
      "Use `tf.global_variables_initializer` instead.\n",
      "100-th Score over time: 0.01\n",
      "200-th Score over time: 0.03\n",
      "300-th Score over time: 0.03\n",
      "400-th Score over time: 0.05\n",
      "500-th Score over time: 0.12\n",
      "600-th Score over time: 0.33\n",
      "700-th Score over time: 0.33\n",
      "800-th Score over time: 0.52\n",
      "900-th Score over time: 0.54\n",
      "1000-th Score over time: 0.46\n",
      "1100-th Score over time: 0.46\n",
      "1200-th Score over time: 0.62\n",
      "1300-th Score over time: 0.66\n",
      "1400-th Score over time: 0.57\n",
      "1500-th Score over time: 0.53\n",
      "1600-th Score over time: 0.65\n",
      "1700-th Score over time: 0.57\n",
      "1800-th Score over time: 0.32\n",
      "1900-th Score over time: 0.65\n",
      "2000-th Score over time: 0.63\n",
      "2100-th Score over time: 0.62\n",
      "2200-th Score over time: 0.64\n",
      "2300-th Score over time: 0.57\n",
      "2400-th Score over time: 0.69\n",
      "2500-th Score over time: 0.74\n",
      "2600-th Score over time: 0.53\n",
      "2700-th Score over time: 0.72\n",
      "2800-th Score over time: 0.57\n",
      "2900-th Score over time: 0.75\n",
      "3000-th Score over time: 0.63\n",
      "3100-th Score over time: 0.65\n",
      "3200-th Score over time: 0.65\n",
      "3300-th Score over time: 0.65\n",
      "3400-th Score over time: 0.68\n",
      "3500-th Score over time: 0.64\n",
      "3600-th Score over time: 0.67\n",
      "3700-th Score over time: 0.68\n",
      "3800-th Score over time: 0.63\n",
      "3900-th Score over time: 0.68\n",
      "4000-th Score over time: 0.74\n",
      "4100-th Score over time: 0.69\n",
      "4200-th Score over time: 0.51\n",
      "4300-th Score over time: 0.7\n",
      "4400-th Score over time: 0.7\n",
      "4500-th Score over time: 0.72\n",
      "4600-th Score over time: 0.69\n",
      "4700-th Score over time: 0.78\n",
      "4800-th Score over time: 0.69\n",
      "4900-th Score over time: 0.72\n",
      "5000-th Score over time: 0.59\n",
      "5100-th Score over time: 0.58\n",
      "5200-th Score over time: 0.72\n",
      "5300-th Score over time: 0.69\n",
      "5400-th Score over time: 0.67\n",
      "5500-th Score over time: 0.77\n",
      "5600-th Score over time: 0.71\n",
      "5700-th Score over time: 0.73\n",
      "5800-th Score over time: 0.55\n",
      "5900-th Score over time: 0.76\n",
      "6000-th Score over time: 0.69\n",
      "6100-th Score over time: 0.78\n",
      "6200-th Score over time: 0.62\n",
      "6300-th Score over time: 0.69\n",
      "6400-th Score over time: 0.81\n",
      "6500-th Score over time: 0.56\n",
      "6600-th Score over time: 0.67\n",
      "6700-th Score over time: 0.68\n",
      "6800-th Score over time: 0.63\n",
      "6900-th Score over time: 0.7\n",
      "7000-th Score over time: 0.72\n",
      "7100-th Score over time: 0.71\n",
      "7200-th Score over time: 0.59\n",
      "7300-th Score over time: 0.68\n",
      "7400-th Score over time: 0.68\n",
      "7500-th Score over time: 0.63\n",
      "7600-th Score over time: 0.66\n",
      "7700-th Score over time: 0.77\n",
      "7800-th Score over time: 0.53\n",
      "7900-th Score over time: 0.76\n",
      "8000-th Score over time: 0.63\n",
      "8100-th Score over time: 0.72\n",
      "8200-th Score over time: 0.72\n",
      "8300-th Score over time: 0.68\n",
      "8400-th Score over time: 0.7\n",
      "8500-th Score over time: 0.68\n",
      "8600-th Score over time: 0.63\n",
      "8700-th Score over time: 0.69\n",
      "8800-th Score over time: 0.65\n",
      "8900-th Score over time: 0.72\n",
      "9000-th Score over time: 0.63\n",
      "9100-th Score over time: 0.69\n",
      "9200-th Score over time: 0.53\n",
      "9300-th Score over time: 0.7\n",
      "9400-th Score over time: 0.67\n",
      "9500-th Score over time: 0.68\n",
      "9600-th Score over time: 0.66\n",
      "9700-th Score over time: 0.64\n",
      "9800-th Score over time: 0.67\n",
      "9900-th Score over time: 0.77\n"
     ]
    }
   ],
   "source": [
    "init = tf.initialize_all_variables()\n",
    "\n",
    "# Set learning parameters\n",
    "y = .99\n",
    "e = 0.1\n",
    "num_episodes = 10000\n",
    "#create lists to contain total rewards and steps per episode\n",
    "jList = []\n",
    "rList = []\n",
    "with tf.Session() as sess:\n",
    "    sess.run(init)\n",
    "    for i in range(num_episodes):\n",
    "        #Reset environment and get first new observation\n",
    "        s = env.reset()\n",
    "        rAll = 0\n",
    "        d = False\n",
    "        j = 0\n",
    "        #The Q-Network\n",
    "        while j < 99:\n",
    "            j+=1\n",
    "            #Choose an action by greedily (with e chance of random action) from the Q-network\n",
    "            a,allQ = sess.run([predict,Qout],feed_dict={inputs1:np.identity(16)[s:s+1]})\n",
    "            if np.random.rand(1) < e:\n",
    "                a[0] = env.action_space.sample()\n",
    "            #Get new state and reward from environment\n",
    "            s1,r,d,_ = env.step(a[0])\n",
    "            #Obtain the Q' values by feeding the new state through our network\n",
    "            Q1 = sess.run(Qout,feed_dict={inputs1:np.identity(16)[s1:s1+1]})\n",
    "            #Obtain maxQ' and set our target value for chosen action.\n",
    "            maxQ1 = np.max(Q1)\n",
    "            targetQ = allQ\n",
    "            targetQ[0,a[0]] = r + y*maxQ1\n",
    "            #Train our network using target and predicted Q values\n",
    "            _,W1 = sess.run([updateModel,W],feed_dict={inputs1:np.identity(16)[s:s+1],nextQ:targetQ})\n",
    "            rAll += r\n",
    "            s = s1\n",
    "            if d == True:\n",
    "                #Reduce chance of random action as we train the model.\n",
    "                e = 1./((i/50) + 10)\n",
    "                break\n",
    "        jList.append(j)\n",
    "        rList.append(rAll)\n",
    "        if (i != 0)&(i%100 == 0):\n",
    "            print(\"%d-th Score over time: \"%i +  str(sum(rList[i-100:i])/100))"
   ]
  },
  {
   "cell_type": "code",
   "execution_count": null,
   "metadata": {},
   "outputs": [],
   "source": []
  },
  {
   "cell_type": "code",
   "execution_count": null,
   "metadata": {},
   "outputs": [],
   "source": []
  },
  {
   "cell_type": "code",
   "execution_count": null,
   "metadata": {},
   "outputs": [],
   "source": []
  },
  {
   "cell_type": "code",
   "execution_count": null,
   "metadata": {},
   "outputs": [],
   "source": []
  }
 ],
 "metadata": {
  "kernelspec": {
   "display_name": "tf1.4p3",
   "language": "python",
   "name": "tf1.4p3"
  },
  "language_info": {
   "codemirror_mode": {
    "name": "ipython",
    "version": 3
   },
   "file_extension": ".py",
   "mimetype": "text/x-python",
   "name": "python",
   "nbconvert_exporter": "python",
   "pygments_lexer": "ipython3",
   "version": "3.5.2"
  }
 },
 "nbformat": 4,
 "nbformat_minor": 2
}
